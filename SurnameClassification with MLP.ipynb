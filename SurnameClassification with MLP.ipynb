{
  "nbformat": 4,
  "nbformat_minor": 0,
  "metadata": {
    "accelerator": "GPU",
    "colab": {
      "name": "SurnameClassification with MLP.ipynb",
      "provenance": [],
      "collapsed_sections": []
    },
    "kernelspec": {
      "display_name": "Python 3",
      "name": "python3"
    },
    "widgets": {
      "application/vnd.jupyter.widget-state+json": {
        "21b15c84743446cf97eb97e9fd083cc7": {
          "model_module": "@jupyter-widgets/controls",
          "model_name": "HBoxModel",
          "state": {
            "_view_name": "HBoxView",
            "_dom_classes": [],
            "_model_name": "HBoxModel",
            "_view_module": "@jupyter-widgets/controls",
            "_model_module_version": "1.5.0",
            "_view_count": null,
            "_view_module_version": "1.5.0",
            "box_style": "",
            "layout": "IPY_MODEL_7ccc99bec022451d90977f8377400db5",
            "_model_module": "@jupyter-widgets/controls",
            "children": [
              "IPY_MODEL_1094a97666614408ba574a67ae66173c",
              "IPY_MODEL_e61f6f41742a41fd870eafd896819bbf"
            ]
          }
        },
        "7ccc99bec022451d90977f8377400db5": {
          "model_module": "@jupyter-widgets/base",
          "model_name": "LayoutModel",
          "state": {
            "_view_name": "LayoutView",
            "grid_template_rows": null,
            "right": null,
            "justify_content": null,
            "_view_module": "@jupyter-widgets/base",
            "overflow": null,
            "_model_module_version": "1.2.0",
            "_view_count": null,
            "flex_flow": null,
            "width": null,
            "min_width": null,
            "border": null,
            "align_items": null,
            "bottom": null,
            "_model_module": "@jupyter-widgets/base",
            "top": null,
            "grid_column": null,
            "overflow_y": null,
            "overflow_x": null,
            "grid_auto_flow": null,
            "grid_area": null,
            "grid_template_columns": null,
            "flex": null,
            "_model_name": "LayoutModel",
            "justify_items": null,
            "grid_row": null,
            "max_height": null,
            "align_content": null,
            "visibility": null,
            "align_self": null,
            "height": null,
            "min_height": null,
            "padding": null,
            "grid_auto_rows": null,
            "grid_gap": null,
            "max_width": null,
            "order": null,
            "_view_module_version": "1.2.0",
            "grid_template_areas": null,
            "object_position": null,
            "object_fit": null,
            "grid_auto_columns": null,
            "margin": null,
            "display": null,
            "left": null
          }
        },
        "1094a97666614408ba574a67ae66173c": {
          "model_module": "@jupyter-widgets/controls",
          "model_name": "FloatProgressModel",
          "state": {
            "_view_name": "ProgressView",
            "style": "IPY_MODEL_5472a6deec95498ea3694c7e8fcd87e6",
            "_dom_classes": [],
            "description": "training_routine: 100%",
            "_model_name": "FloatProgressModel",
            "bar_style": "",
            "max": 100,
            "_view_module": "@jupyter-widgets/controls",
            "_model_module_version": "1.5.0",
            "value": 100,
            "_view_count": null,
            "_view_module_version": "1.5.0",
            "orientation": "horizontal",
            "min": 0,
            "description_tooltip": null,
            "_model_module": "@jupyter-widgets/controls",
            "layout": "IPY_MODEL_2c2af96d7c79475db7517a26e32f440e"
          }
        },
        "e61f6f41742a41fd870eafd896819bbf": {
          "model_module": "@jupyter-widgets/controls",
          "model_name": "HTMLModel",
          "state": {
            "_view_name": "HTMLView",
            "style": "IPY_MODEL_2fc121807a4a4638af96888ad8d776a9",
            "_dom_classes": [],
            "description": "",
            "_model_name": "HTMLModel",
            "placeholder": "​",
            "_view_module": "@jupyter-widgets/controls",
            "_model_module_version": "1.5.0",
            "value": " 100/100 [03:59&lt;00:00,  2.38s/it]",
            "_view_count": null,
            "_view_module_version": "1.5.0",
            "description_tooltip": null,
            "_model_module": "@jupyter-widgets/controls",
            "layout": "IPY_MODEL_f6b738da39014b97b68983dfa2b69d52"
          }
        },
        "5472a6deec95498ea3694c7e8fcd87e6": {
          "model_module": "@jupyter-widgets/controls",
          "model_name": "ProgressStyleModel",
          "state": {
            "_view_name": "StyleView",
            "_model_name": "ProgressStyleModel",
            "description_width": "initial",
            "_view_module": "@jupyter-widgets/base",
            "_model_module_version": "1.5.0",
            "_view_count": null,
            "_view_module_version": "1.2.0",
            "bar_color": null,
            "_model_module": "@jupyter-widgets/controls"
          }
        },
        "2c2af96d7c79475db7517a26e32f440e": {
          "model_module": "@jupyter-widgets/base",
          "model_name": "LayoutModel",
          "state": {
            "_view_name": "LayoutView",
            "grid_template_rows": null,
            "right": null,
            "justify_content": null,
            "_view_module": "@jupyter-widgets/base",
            "overflow": null,
            "_model_module_version": "1.2.0",
            "_view_count": null,
            "flex_flow": null,
            "width": null,
            "min_width": null,
            "border": null,
            "align_items": null,
            "bottom": null,
            "_model_module": "@jupyter-widgets/base",
            "top": null,
            "grid_column": null,
            "overflow_y": null,
            "overflow_x": null,
            "grid_auto_flow": null,
            "grid_area": null,
            "grid_template_columns": null,
            "flex": null,
            "_model_name": "LayoutModel",
            "justify_items": null,
            "grid_row": null,
            "max_height": null,
            "align_content": null,
            "visibility": null,
            "align_self": null,
            "height": null,
            "min_height": null,
            "padding": null,
            "grid_auto_rows": null,
            "grid_gap": null,
            "max_width": null,
            "order": null,
            "_view_module_version": "1.2.0",
            "grid_template_areas": null,
            "object_position": null,
            "object_fit": null,
            "grid_auto_columns": null,
            "margin": null,
            "display": null,
            "left": null
          }
        },
        "2fc121807a4a4638af96888ad8d776a9": {
          "model_module": "@jupyter-widgets/controls",
          "model_name": "DescriptionStyleModel",
          "state": {
            "_view_name": "StyleView",
            "_model_name": "DescriptionStyleModel",
            "description_width": "",
            "_view_module": "@jupyter-widgets/base",
            "_model_module_version": "1.5.0",
            "_view_count": null,
            "_view_module_version": "1.2.0",
            "_model_module": "@jupyter-widgets/controls"
          }
        },
        "f6b738da39014b97b68983dfa2b69d52": {
          "model_module": "@jupyter-widgets/base",
          "model_name": "LayoutModel",
          "state": {
            "_view_name": "LayoutView",
            "grid_template_rows": null,
            "right": null,
            "justify_content": null,
            "_view_module": "@jupyter-widgets/base",
            "overflow": null,
            "_model_module_version": "1.2.0",
            "_view_count": null,
            "flex_flow": null,
            "width": null,
            "min_width": null,
            "border": null,
            "align_items": null,
            "bottom": null,
            "_model_module": "@jupyter-widgets/base",
            "top": null,
            "grid_column": null,
            "overflow_y": null,
            "overflow_x": null,
            "grid_auto_flow": null,
            "grid_area": null,
            "grid_template_columns": null,
            "flex": null,
            "_model_name": "LayoutModel",
            "justify_items": null,
            "grid_row": null,
            "max_height": null,
            "align_content": null,
            "visibility": null,
            "align_self": null,
            "height": null,
            "min_height": null,
            "padding": null,
            "grid_auto_rows": null,
            "grid_gap": null,
            "max_width": null,
            "order": null,
            "_view_module_version": "1.2.0",
            "grid_template_areas": null,
            "object_position": null,
            "object_fit": null,
            "grid_auto_columns": null,
            "margin": null,
            "display": null,
            "left": null
          }
        },
        "7d315a41fcf742e0b02d08c9fd6128ea": {
          "model_module": "@jupyter-widgets/controls",
          "model_name": "HBoxModel",
          "state": {
            "_view_name": "HBoxView",
            "_dom_classes": [],
            "_model_name": "HBoxModel",
            "_view_module": "@jupyter-widgets/controls",
            "_model_module_version": "1.5.0",
            "_view_count": null,
            "_view_module_version": "1.5.0",
            "box_style": "",
            "layout": "IPY_MODEL_2d8bf3a1844c4b76b35dcad822591b50",
            "_model_module": "@jupyter-widgets/controls",
            "children": [
              "IPY_MODEL_41a15c7fb641401b81705337c8e1a4d0",
              "IPY_MODEL_6c3bd1dced4940e48bf07f6098101f1b"
            ]
          }
        },
        "2d8bf3a1844c4b76b35dcad822591b50": {
          "model_module": "@jupyter-widgets/base",
          "model_name": "LayoutModel",
          "state": {
            "_view_name": "LayoutView",
            "grid_template_rows": null,
            "right": null,
            "justify_content": null,
            "_view_module": "@jupyter-widgets/base",
            "overflow": null,
            "_model_module_version": "1.2.0",
            "_view_count": null,
            "flex_flow": null,
            "width": null,
            "min_width": null,
            "border": null,
            "align_items": null,
            "bottom": null,
            "_model_module": "@jupyter-widgets/base",
            "top": null,
            "grid_column": null,
            "overflow_y": null,
            "overflow_x": null,
            "grid_auto_flow": null,
            "grid_area": null,
            "grid_template_columns": null,
            "flex": null,
            "_model_name": "LayoutModel",
            "justify_items": null,
            "grid_row": null,
            "max_height": null,
            "align_content": null,
            "visibility": null,
            "align_self": null,
            "height": null,
            "min_height": null,
            "padding": null,
            "grid_auto_rows": null,
            "grid_gap": null,
            "max_width": null,
            "order": null,
            "_view_module_version": "1.2.0",
            "grid_template_areas": null,
            "object_position": null,
            "object_fit": null,
            "grid_auto_columns": null,
            "margin": null,
            "display": null,
            "left": null
          }
        },
        "41a15c7fb641401b81705337c8e1a4d0": {
          "model_module": "@jupyter-widgets/controls",
          "model_name": "FloatProgressModel",
          "state": {
            "_view_name": "ProgressView",
            "style": "IPY_MODEL_4a0fb0038c804ba69d13ac0839e96b89",
            "_dom_classes": [],
            "description": "split=train:  98%",
            "_model_name": "FloatProgressModel",
            "bar_style": "",
            "max": 60,
            "_view_module": "@jupyter-widgets/controls",
            "_model_module_version": "1.5.0",
            "value": 59,
            "_view_count": null,
            "_view_module_version": "1.5.0",
            "orientation": "horizontal",
            "min": 0,
            "description_tooltip": null,
            "_model_module": "@jupyter-widgets/controls",
            "layout": "IPY_MODEL_e8493538aa5049388f923b119c6f1026"
          }
        },
        "6c3bd1dced4940e48bf07f6098101f1b": {
          "model_module": "@jupyter-widgets/controls",
          "model_name": "HTMLModel",
          "state": {
            "_view_name": "HTMLView",
            "style": "IPY_MODEL_9193bc80973240dbbdbbef50aae842d3",
            "_dom_classes": [],
            "description": "",
            "_model_name": "HTMLModel",
            "placeholder": "​",
            "_view_module": "@jupyter-widgets/controls",
            "_model_module_version": "1.5.0",
            "value": " 59/60 [03:59&lt;00:04,  4.95s/it, acc=50.8, epoch=99, loss=1.36]",
            "_view_count": null,
            "_view_module_version": "1.5.0",
            "description_tooltip": null,
            "_model_module": "@jupyter-widgets/controls",
            "layout": "IPY_MODEL_b28bfa5801ef4dc289303ca775c84cd7"
          }
        },
        "4a0fb0038c804ba69d13ac0839e96b89": {
          "model_module": "@jupyter-widgets/controls",
          "model_name": "ProgressStyleModel",
          "state": {
            "_view_name": "StyleView",
            "_model_name": "ProgressStyleModel",
            "description_width": "initial",
            "_view_module": "@jupyter-widgets/base",
            "_model_module_version": "1.5.0",
            "_view_count": null,
            "_view_module_version": "1.2.0",
            "bar_color": null,
            "_model_module": "@jupyter-widgets/controls"
          }
        },
        "e8493538aa5049388f923b119c6f1026": {
          "model_module": "@jupyter-widgets/base",
          "model_name": "LayoutModel",
          "state": {
            "_view_name": "LayoutView",
            "grid_template_rows": null,
            "right": null,
            "justify_content": null,
            "_view_module": "@jupyter-widgets/base",
            "overflow": null,
            "_model_module_version": "1.2.0",
            "_view_count": null,
            "flex_flow": null,
            "width": null,
            "min_width": null,
            "border": null,
            "align_items": null,
            "bottom": null,
            "_model_module": "@jupyter-widgets/base",
            "top": null,
            "grid_column": null,
            "overflow_y": null,
            "overflow_x": null,
            "grid_auto_flow": null,
            "grid_area": null,
            "grid_template_columns": null,
            "flex": null,
            "_model_name": "LayoutModel",
            "justify_items": null,
            "grid_row": null,
            "max_height": null,
            "align_content": null,
            "visibility": null,
            "align_self": null,
            "height": null,
            "min_height": null,
            "padding": null,
            "grid_auto_rows": null,
            "grid_gap": null,
            "max_width": null,
            "order": null,
            "_view_module_version": "1.2.0",
            "grid_template_areas": null,
            "object_position": null,
            "object_fit": null,
            "grid_auto_columns": null,
            "margin": null,
            "display": null,
            "left": null
          }
        },
        "9193bc80973240dbbdbbef50aae842d3": {
          "model_module": "@jupyter-widgets/controls",
          "model_name": "DescriptionStyleModel",
          "state": {
            "_view_name": "StyleView",
            "_model_name": "DescriptionStyleModel",
            "description_width": "",
            "_view_module": "@jupyter-widgets/base",
            "_model_module_version": "1.5.0",
            "_view_count": null,
            "_view_module_version": "1.2.0",
            "_model_module": "@jupyter-widgets/controls"
          }
        },
        "b28bfa5801ef4dc289303ca775c84cd7": {
          "model_module": "@jupyter-widgets/base",
          "model_name": "LayoutModel",
          "state": {
            "_view_name": "LayoutView",
            "grid_template_rows": null,
            "right": null,
            "justify_content": null,
            "_view_module": "@jupyter-widgets/base",
            "overflow": null,
            "_model_module_version": "1.2.0",
            "_view_count": null,
            "flex_flow": null,
            "width": null,
            "min_width": null,
            "border": null,
            "align_items": null,
            "bottom": null,
            "_model_module": "@jupyter-widgets/base",
            "top": null,
            "grid_column": null,
            "overflow_y": null,
            "overflow_x": null,
            "grid_auto_flow": null,
            "grid_area": null,
            "grid_template_columns": null,
            "flex": null,
            "_model_name": "LayoutModel",
            "justify_items": null,
            "grid_row": null,
            "max_height": null,
            "align_content": null,
            "visibility": null,
            "align_self": null,
            "height": null,
            "min_height": null,
            "padding": null,
            "grid_auto_rows": null,
            "grid_gap": null,
            "max_width": null,
            "order": null,
            "_view_module_version": "1.2.0",
            "grid_template_areas": null,
            "object_position": null,
            "object_fit": null,
            "grid_auto_columns": null,
            "margin": null,
            "display": null,
            "left": null
          }
        },
        "8b90e425b47a436487fe7dcc31495679": {
          "model_module": "@jupyter-widgets/controls",
          "model_name": "HBoxModel",
          "state": {
            "_view_name": "HBoxView",
            "_dom_classes": [],
            "_model_name": "HBoxModel",
            "_view_module": "@jupyter-widgets/controls",
            "_model_module_version": "1.5.0",
            "_view_count": null,
            "_view_module_version": "1.5.0",
            "box_style": "",
            "layout": "IPY_MODEL_58eacc6816bd4c98821565a2cc7eec8a",
            "_model_module": "@jupyter-widgets/controls",
            "children": [
              "IPY_MODEL_25bfe262dbde455f9e2163b526f4d1d5",
              "IPY_MODEL_9f33a18c5e124e48bd08abee0ec226d3"
            ]
          }
        },
        "58eacc6816bd4c98821565a2cc7eec8a": {
          "model_module": "@jupyter-widgets/base",
          "model_name": "LayoutModel",
          "state": {
            "_view_name": "LayoutView",
            "grid_template_rows": null,
            "right": null,
            "justify_content": null,
            "_view_module": "@jupyter-widgets/base",
            "overflow": null,
            "_model_module_version": "1.2.0",
            "_view_count": null,
            "flex_flow": null,
            "width": null,
            "min_width": null,
            "border": null,
            "align_items": null,
            "bottom": null,
            "_model_module": "@jupyter-widgets/base",
            "top": null,
            "grid_column": null,
            "overflow_y": null,
            "overflow_x": null,
            "grid_auto_flow": null,
            "grid_area": null,
            "grid_template_columns": null,
            "flex": null,
            "_model_name": "LayoutModel",
            "justify_items": null,
            "grid_row": null,
            "max_height": null,
            "align_content": null,
            "visibility": null,
            "align_self": null,
            "height": null,
            "min_height": null,
            "padding": null,
            "grid_auto_rows": null,
            "grid_gap": null,
            "max_width": null,
            "order": null,
            "_view_module_version": "1.2.0",
            "grid_template_areas": null,
            "object_position": null,
            "object_fit": null,
            "grid_auto_columns": null,
            "margin": null,
            "display": null,
            "left": null
          }
        },
        "25bfe262dbde455f9e2163b526f4d1d5": {
          "model_module": "@jupyter-widgets/controls",
          "model_name": "FloatProgressModel",
          "state": {
            "_view_name": "ProgressView",
            "style": "IPY_MODEL_b78933413c304ae59ef1fd5db4f3a31e",
            "_dom_classes": [],
            "description": "split=val:  92%",
            "_model_name": "FloatProgressModel",
            "bar_style": "",
            "max": 12,
            "_view_module": "@jupyter-widgets/controls",
            "_model_module_version": "1.5.0",
            "value": 11,
            "_view_count": null,
            "_view_module_version": "1.5.0",
            "orientation": "horizontal",
            "min": 0,
            "description_tooltip": null,
            "_model_module": "@jupyter-widgets/controls",
            "layout": "IPY_MODEL_b8fed22624e0446a84961a1ba8da55dc"
          }
        },
        "9f33a18c5e124e48bd08abee0ec226d3": {
          "model_module": "@jupyter-widgets/controls",
          "model_name": "HTMLModel",
          "state": {
            "_view_name": "HTMLView",
            "style": "IPY_MODEL_c41188616897441ea400ae82fea996ca",
            "_dom_classes": [],
            "description": "",
            "_model_name": "HTMLModel",
            "placeholder": "​",
            "_view_module": "@jupyter-widgets/controls",
            "_model_module_version": "1.5.0",
            "value": " 11/12 [03:59&lt;00:00,  1.21it/s, acc=43.8, epoch=99, loss=1.64]",
            "_view_count": null,
            "_view_module_version": "1.5.0",
            "description_tooltip": null,
            "_model_module": "@jupyter-widgets/controls",
            "layout": "IPY_MODEL_c8b24fa6fc9f4e28b68913e7e9e7503d"
          }
        },
        "b78933413c304ae59ef1fd5db4f3a31e": {
          "model_module": "@jupyter-widgets/controls",
          "model_name": "ProgressStyleModel",
          "state": {
            "_view_name": "StyleView",
            "_model_name": "ProgressStyleModel",
            "description_width": "initial",
            "_view_module": "@jupyter-widgets/base",
            "_model_module_version": "1.5.0",
            "_view_count": null,
            "_view_module_version": "1.2.0",
            "bar_color": null,
            "_model_module": "@jupyter-widgets/controls"
          }
        },
        "b8fed22624e0446a84961a1ba8da55dc": {
          "model_module": "@jupyter-widgets/base",
          "model_name": "LayoutModel",
          "state": {
            "_view_name": "LayoutView",
            "grid_template_rows": null,
            "right": null,
            "justify_content": null,
            "_view_module": "@jupyter-widgets/base",
            "overflow": null,
            "_model_module_version": "1.2.0",
            "_view_count": null,
            "flex_flow": null,
            "width": null,
            "min_width": null,
            "border": null,
            "align_items": null,
            "bottom": null,
            "_model_module": "@jupyter-widgets/base",
            "top": null,
            "grid_column": null,
            "overflow_y": null,
            "overflow_x": null,
            "grid_auto_flow": null,
            "grid_area": null,
            "grid_template_columns": null,
            "flex": null,
            "_model_name": "LayoutModel",
            "justify_items": null,
            "grid_row": null,
            "max_height": null,
            "align_content": null,
            "visibility": null,
            "align_self": null,
            "height": null,
            "min_height": null,
            "padding": null,
            "grid_auto_rows": null,
            "grid_gap": null,
            "max_width": null,
            "order": null,
            "_view_module_version": "1.2.0",
            "grid_template_areas": null,
            "object_position": null,
            "object_fit": null,
            "grid_auto_columns": null,
            "margin": null,
            "display": null,
            "left": null
          }
        },
        "c41188616897441ea400ae82fea996ca": {
          "model_module": "@jupyter-widgets/controls",
          "model_name": "DescriptionStyleModel",
          "state": {
            "_view_name": "StyleView",
            "_model_name": "DescriptionStyleModel",
            "description_width": "",
            "_view_module": "@jupyter-widgets/base",
            "_model_module_version": "1.5.0",
            "_view_count": null,
            "_view_module_version": "1.2.0",
            "_model_module": "@jupyter-widgets/controls"
          }
        },
        "c8b24fa6fc9f4e28b68913e7e9e7503d": {
          "model_module": "@jupyter-widgets/base",
          "model_name": "LayoutModel",
          "state": {
            "_view_name": "LayoutView",
            "grid_template_rows": null,
            "right": null,
            "justify_content": null,
            "_view_module": "@jupyter-widgets/base",
            "overflow": null,
            "_model_module_version": "1.2.0",
            "_view_count": null,
            "flex_flow": null,
            "width": null,
            "min_width": null,
            "border": null,
            "align_items": null,
            "bottom": null,
            "_model_module": "@jupyter-widgets/base",
            "top": null,
            "grid_column": null,
            "overflow_y": null,
            "overflow_x": null,
            "grid_auto_flow": null,
            "grid_area": null,
            "grid_template_columns": null,
            "flex": null,
            "_model_name": "LayoutModel",
            "justify_items": null,
            "grid_row": null,
            "max_height": null,
            "align_content": null,
            "visibility": null,
            "align_self": null,
            "height": null,
            "min_height": null,
            "padding": null,
            "grid_auto_rows": null,
            "grid_gap": null,
            "max_width": null,
            "order": null,
            "_view_module_version": "1.2.0",
            "grid_template_areas": null,
            "object_position": null,
            "object_fit": null,
            "grid_auto_columns": null,
            "margin": null,
            "display": null,
            "left": null
          }
        }
      }
    }
  },
  "cells": [
    {
      "cell_type": "markdown",
      "metadata": {
        "id": "Pf2pFVS0U1mQ"
      },
      "source": [
        "**Initialization**\n",
        "* I use these 3 lines of code on top of my each Notebooks because it will help to prevent any problems while reloading and reworking on a same Project or Problem. And the third line of code helps to make visualization within the Notebook."
      ]
    },
    {
      "cell_type": "code",
      "metadata": {
        "id": "GJEtOByNa5Vo"
      },
      "source": [
        "#@ Initialization:\n",
        "%reload_ext autoreload\n",
        "%autoreload 2\n",
        "%matplotlib inline "
      ],
      "execution_count": null,
      "outputs": []
    },
    {
      "cell_type": "markdown",
      "metadata": {
        "id": "-68Qtx0PVX9z"
      },
      "source": [
        "**Downloading the Libraries and Dependencies**\n",
        "* I have downloaded all the Libraries and Dependencies required for this Project in one particular cell."
      ]
    },
    {
      "cell_type": "code",
      "metadata": {
        "id": "NJYhZ4poVWSw"
      },
      "source": [
        "#@ Downloading the Libraries and Dependencies:\n",
        "import torch\n",
        "import pandas as pd\n",
        "import numpy as np\n",
        "import collections\n",
        "import re, json, string, os\n",
        "\n",
        "from argparse import Namespace\n",
        "from IPython.display import display\n",
        "from collections import Counter\n",
        "import torch.nn as nn \n",
        "import torch.nn.functional as F\n",
        "import torch.optim as optim\n",
        "from torch.utils.data import Dataset, DataLoader\n",
        "from tqdm import tqdm_notebook"
      ],
      "execution_count": null,
      "outputs": []
    },
    {
      "cell_type": "markdown",
      "metadata": {
        "id": "o_L1e2rEXGfz"
      },
      "source": [
        "**Getting the Data**\n",
        "* I have used Google Colab for this Project so the process of downloading and reading the Data might be different in other platforms. I have used **The Surname Dataset** which is a collection of 10000 surnames from 18 different Nationalities collected from different name sources on the Internet. The first property of this Dataset is that it is fairly Imbalanced. The second property is that there is a valid and intuitive relationships between Nationality origin and Surname Orthography. "
      ]
    },
    {
      "cell_type": "code",
      "metadata": {
        "id": "h9DpbXAyXDhy",
        "outputId": "33e3d22f-810c-4958-c32f-f7ab80648aaf",
        "colab": {
          "base_uri": "https://localhost:8080/",
          "height": 699
        }
      },
      "source": [
        "#@ Getting the Dataset:\n",
        "args = Namespace(\n",
        "    raw_dataset = \"/content/drive/My Drive/Colab Notebooks/Surname/surnames.csv\",\n",
        "    train_proportion = 0.7,\n",
        "    val_proportion = 0.15,\n",
        "    test_proportion = 0.15,\n",
        "    output_munged = \"/content/drive/My Drive/Colab Notebooks/Surname/surnames_with_splits.csv\",\n",
        "    seed = 42\n",
        ")\n",
        "\n",
        "#@ Reading the Raw Dataset:\n",
        "surnames = pd.read_csv(args.raw_dataset, header=0)\n",
        "display(surnames.head(10))                                                                          # Inspecting the DataFrame.\n",
        "print(\"\\nUnique Classes:\")\n",
        "display(set(surnames[\"nationality\"]))                                                               # Inspecting the Unique classes in the Dataset."
      ],
      "execution_count": null,
      "outputs": [
        {
          "output_type": "display_data",
          "data": {
            "text/html": [
              "<div>\n",
              "<style scoped>\n",
              "    .dataframe tbody tr th:only-of-type {\n",
              "        vertical-align: middle;\n",
              "    }\n",
              "\n",
              "    .dataframe tbody tr th {\n",
              "        vertical-align: top;\n",
              "    }\n",
              "\n",
              "    .dataframe thead th {\n",
              "        text-align: right;\n",
              "    }\n",
              "</style>\n",
              "<table border=\"1\" class=\"dataframe\">\n",
              "  <thead>\n",
              "    <tr style=\"text-align: right;\">\n",
              "      <th></th>\n",
              "      <th>surname</th>\n",
              "      <th>nationality</th>\n",
              "    </tr>\n",
              "  </thead>\n",
              "  <tbody>\n",
              "    <tr>\n",
              "      <th>0</th>\n",
              "      <td>Woodford</td>\n",
              "      <td>English</td>\n",
              "    </tr>\n",
              "    <tr>\n",
              "      <th>1</th>\n",
              "      <td>Coté</td>\n",
              "      <td>French</td>\n",
              "    </tr>\n",
              "    <tr>\n",
              "      <th>2</th>\n",
              "      <td>Kore</td>\n",
              "      <td>English</td>\n",
              "    </tr>\n",
              "    <tr>\n",
              "      <th>3</th>\n",
              "      <td>Koury</td>\n",
              "      <td>Arabic</td>\n",
              "    </tr>\n",
              "    <tr>\n",
              "      <th>4</th>\n",
              "      <td>Lebzak</td>\n",
              "      <td>Russian</td>\n",
              "    </tr>\n",
              "    <tr>\n",
              "      <th>5</th>\n",
              "      <td>Obinata</td>\n",
              "      <td>Japanese</td>\n",
              "    </tr>\n",
              "    <tr>\n",
              "      <th>6</th>\n",
              "      <td>Rahal</td>\n",
              "      <td>Arabic</td>\n",
              "    </tr>\n",
              "    <tr>\n",
              "      <th>7</th>\n",
              "      <td>Zhuan</td>\n",
              "      <td>Chinese</td>\n",
              "    </tr>\n",
              "    <tr>\n",
              "      <th>8</th>\n",
              "      <td>Acconci</td>\n",
              "      <td>Italian</td>\n",
              "    </tr>\n",
              "    <tr>\n",
              "      <th>9</th>\n",
              "      <td>Mifsud</td>\n",
              "      <td>Arabic</td>\n",
              "    </tr>\n",
              "  </tbody>\n",
              "</table>\n",
              "</div>"
            ],
            "text/plain": [
              "    surname nationality\n",
              "0  Woodford     English\n",
              "1      Coté      French\n",
              "2      Kore     English\n",
              "3     Koury      Arabic\n",
              "4    Lebzak     Russian\n",
              "5   Obinata    Japanese\n",
              "6     Rahal      Arabic\n",
              "7     Zhuan     Chinese\n",
              "8   Acconci     Italian\n",
              "9    Mifsud      Arabic"
            ]
          },
          "metadata": {
            "tags": []
          }
        },
        {
          "output_type": "stream",
          "text": [
            "\n",
            "Unique Classes:\n"
          ],
          "name": "stdout"
        },
        {
          "output_type": "display_data",
          "data": {
            "text/plain": [
              "{'Arabic',\n",
              " 'Chinese',\n",
              " 'Czech',\n",
              " 'Dutch',\n",
              " 'English',\n",
              " 'French',\n",
              " 'German',\n",
              " 'Greek',\n",
              " 'Irish',\n",
              " 'Italian',\n",
              " 'Japanese',\n",
              " 'Korean',\n",
              " 'Polish',\n",
              " 'Portuguese',\n",
              " 'Russian',\n",
              " 'Scottish',\n",
              " 'Spanish',\n",
              " 'Vietnamese'}"
            ]
          },
          "metadata": {
            "tags": []
          }
        }
      ]
    },
    {
      "cell_type": "markdown",
      "metadata": {
        "id": "-kQ9dAp-ce-f"
      },
      "source": [
        "**Processing the Dataset** "
      ]
    },
    {
      "cell_type": "code",
      "metadata": {
        "id": "T2-I7utNbpz1",
        "outputId": "e9f88880-2d7e-4f6c-bd7c-f361370edfcb",
        "colab": {
          "base_uri": "https://localhost:8080/",
          "height": 289
        }
      },
      "source": [
        "#@ Splitting the Dataset on the basis of Nationality:\n",
        "by_nationality = collections.defaultdict(list)                      # Collection stores the collection of Data.\n",
        "for _, row in surnames.iterrows():\n",
        "  by_nationality[row.nationality].append(row.to_dict())             # Creating the Dictionary.\n",
        "\n",
        "#@ Creating the Split Data:\n",
        "final_list = []\n",
        "np.random.seed(args.seed)\n",
        "for _, item_list in sorted(by_nationality.items()):\n",
        "  np.random.shuffle(item_list)                                      # Shuffling the Data randomly.\n",
        "  n = len(item_list)                                                # Number of Items.\n",
        "  n_train = int(args.train_proportion * n)                          # Number of Training Dataset.\n",
        "  n_val = int(args.val_proportion * n)                              # Number of Validation Dataset.\n",
        "  n_test = int(args.test_proportion * n)                            # Number of Testing Dataset.\n",
        "  #@ Giving the Data point a Split Attribute:\n",
        "  for item in item_list[:n_train]:\n",
        "    item[\"split\"] = \"train\"                                         # Training Dataset.\n",
        "  for item in item_list[n_train:n_train+n_val]:\n",
        "    item[\"split\"] = \"val\"                                           # Validation Dataset.\n",
        "  for item in item_list[n_train+n_val:n_train+n_val+n_test]:\n",
        "    item[\"split\"] = \"test\"                                          # Testing Dataset.\n",
        "  #@ Adding to the Final List:\n",
        "  final_list.extend(item_list)\n",
        "\n",
        "#@ Final Split of the Data and Creating the Final DataFrame:\n",
        "final_surnames = pd.DataFrame(final_list)\n",
        "\n",
        "#@ Inspecting the Final DataFrame:\n",
        "display(final_surnames.split.value_counts())                         # Inspecting the Training, Validation and the Testing Data.\n",
        "print(\" \")\n",
        "display(final_surnames.head())                                       # Inspecting the Final DataFrame."
      ],
      "execution_count": null,
      "outputs": [
        {
          "output_type": "display_data",
          "data": {
            "text/plain": [
              "train    7680\n",
              "val      1640\n",
              "test     1640\n",
              "Name: split, dtype: int64"
            ]
          },
          "metadata": {
            "tags": []
          }
        },
        {
          "output_type": "stream",
          "text": [
            " \n"
          ],
          "name": "stdout"
        },
        {
          "output_type": "display_data",
          "data": {
            "text/html": [
              "<div>\n",
              "<style scoped>\n",
              "    .dataframe tbody tr th:only-of-type {\n",
              "        vertical-align: middle;\n",
              "    }\n",
              "\n",
              "    .dataframe tbody tr th {\n",
              "        vertical-align: top;\n",
              "    }\n",
              "\n",
              "    .dataframe thead th {\n",
              "        text-align: right;\n",
              "    }\n",
              "</style>\n",
              "<table border=\"1\" class=\"dataframe\">\n",
              "  <thead>\n",
              "    <tr style=\"text-align: right;\">\n",
              "      <th></th>\n",
              "      <th>surname</th>\n",
              "      <th>nationality</th>\n",
              "      <th>split</th>\n",
              "    </tr>\n",
              "  </thead>\n",
              "  <tbody>\n",
              "    <tr>\n",
              "      <th>0</th>\n",
              "      <td>Guirguis</td>\n",
              "      <td>Arabic</td>\n",
              "      <td>train</td>\n",
              "    </tr>\n",
              "    <tr>\n",
              "      <th>1</th>\n",
              "      <td>Shamon</td>\n",
              "      <td>Arabic</td>\n",
              "      <td>train</td>\n",
              "    </tr>\n",
              "    <tr>\n",
              "      <th>2</th>\n",
              "      <td>Nader</td>\n",
              "      <td>Arabic</td>\n",
              "      <td>train</td>\n",
              "    </tr>\n",
              "    <tr>\n",
              "      <th>3</th>\n",
              "      <td>Kassis</td>\n",
              "      <td>Arabic</td>\n",
              "      <td>train</td>\n",
              "    </tr>\n",
              "    <tr>\n",
              "      <th>4</th>\n",
              "      <td>Bahar</td>\n",
              "      <td>Arabic</td>\n",
              "      <td>train</td>\n",
              "    </tr>\n",
              "  </tbody>\n",
              "</table>\n",
              "</div>"
            ],
            "text/plain": [
              "    surname nationality  split\n",
              "0  Guirguis      Arabic  train\n",
              "1    Shamon      Arabic  train\n",
              "2     Nader      Arabic  train\n",
              "3    Kassis      Arabic  train\n",
              "4     Bahar      Arabic  train"
            ]
          },
          "metadata": {
            "tags": []
          }
        }
      ]
    },
    {
      "cell_type": "code",
      "metadata": {
        "id": "DVMlfnQyiS8G"
      },
      "source": [
        "#@ Preparing the Final Data:\n",
        "final_surnames.to_csv(args.output_munged, index=False)"
      ],
      "execution_count": null,
      "outputs": []
    },
    {
      "cell_type": "markdown",
      "metadata": {
        "id": "zQ2CTZq1agOO"
      },
      "source": [
        "**Surname Dataset Class**\n",
        "* PyTorch provides an abstraction for the Dataset by providing a Dataset Class. The Dataset Class is an abstract Operator. When using PyTorch with a new Dataset it is necessary to sub class the Dataset Class and Implement the getitem and len methods. I will implement two functions: the getitem method which returns a Data point when given an index and len method returns the length of the Dataset."
      ]
    },
    {
      "cell_type": "code",
      "metadata": {
        "id": "sxtzyCZTXh-H"
      },
      "source": [
        "#@ Implementing the Surname Dataset Class:\n",
        "class SurnameDataset(Dataset):\n",
        "  def __init__(self, surname_df, vectorizer):\n",
        "    \"\"\"\n",
        "    Args: surname_df(pandas DataFrame): The Dataset.\n",
        "        : vectorizer(SurnameVectorizer): Vectorizer Instantiated.\n",
        "    \"\"\"\n",
        "    self.surname_df = surname_df\n",
        "    self._vectorizer = vectorizer \n",
        "\n",
        "    self.train_df = self.surname_df[self.surname_df.split == \"train\"]\n",
        "    self.train_size = len(self.train_df)\n",
        "\n",
        "    self.val_df = self.surname_df[self.surname_df.split == \"val\"]\n",
        "    self.validation_size = len(self.val_df)\n",
        "\n",
        "    self.test_df = self.surname_df[self.surname_df.split == \"test\"]\n",
        "    self.test_size = len(self.test_df)\n",
        "\n",
        "    self._lookup_dict = {\"train\": (self.train_df, self.train_size),\n",
        "                         \"val\": (self.val_df, self.validation_size),\n",
        "                         \"test\": (self.test_df, self.test_size)}\n",
        "    \n",
        "    self.set_split(\"train\")\n",
        "\n",
        "    #@ Dataset Class Weights:\n",
        "    class_counts = surname_df.nationality.value_counts().to_dict()\n",
        "    def sort_key(item):\n",
        "      return self._vectorizer.nationality_vocab.lookup_token(item[0])\n",
        "    sorted_counts = sorted(class_counts.items(), key=sort_key)\n",
        "    frequencies = [count for _, count in sorted_counts]\n",
        "    self.class_weights = 1.0 / torch.tensor(frequencies, dtype=torch.float32)\n",
        "\n",
        "  @classmethod\n",
        "  def load_dataset_and_make_vectorizer(cls, surname_csv):\n",
        "    \"\"\"Load Dataset and make Vectorizer from scratch.\n",
        "    Args: surname_csv: Location of the Dataset.\n",
        "    Returns: An instance of the SurnameDataset.\n",
        "    \"\"\"\n",
        "    surname_df = pd.read_csv(surname_csv)\n",
        "    train_surname_df = surname_df[surname_df.split == \"train\"]\n",
        "    return cls(surname_df, SurnameVectorizer.from_dataframe(train_surname_df))\n",
        "  \n",
        "  @classmethod\n",
        "  def load_dataset_and_load_vectorizer(cls, surname_csv, vectorizer_filepath):\n",
        "    \"\"\"Load Dataset and corresponding Vectorizer.\n",
        "    Args: surname_csv: Location of the Dataset.\n",
        "        : vectorizer_filepath: Location of the saved Vectorizer.\n",
        "    Returns: An instance of the SurnameDataset.\n",
        "    \"\"\"\n",
        "    surname_df = pd.read_csv(surname_csv)\n",
        "    vectorizer = cls.load_vectorizer_only(vectorizer_filepath)\n",
        "    return cls(surname_df, vectorizer)\n",
        "  \n",
        "  @staticmethod\n",
        "  def load_vectorizer_only(vectorizer_filepath):\n",
        "    \"\"\"A static method for loading the Vectorizer from file.\n",
        "    Args: vectorizer_filepath: The location of the serialized vectorizer.\n",
        "    Returns: An instance of SurnameVectorizer.\n",
        "    \"\"\"\n",
        "    with open(vectorizer_filepath) as fp:\n",
        "      return SurnameVectorizer.from_serializable(json.load(fp))\n",
        "  \n",
        "  def save_vectorizer(self, vectorizer_filepath):\n",
        "    \"\"\"Saves the Vectorizer to disk using json.\n",
        "    Args: vectorizer_filepath: The location to save the Vectorizer.\n",
        "    \"\"\"\n",
        "    with open(vectorizer_filepath, \"w\") as fp:\n",
        "      json.dump(self._vectorizer.to_serializable(), fp)\n",
        "  \n",
        "  def get_vectorizer(self):\n",
        "    return self._vectorizer\n",
        "  \n",
        "  def set_split(self, split=\"train\"):\n",
        "    self._target_split = split\n",
        "    self._target_df, self._target_size = self._lookup_dict[split]\n",
        "  \n",
        "  def __len__(self):\n",
        "    return self._target_size\n",
        "  \n",
        "  def __getitem__(self, index):\n",
        "    row = self._target_df.iloc[index]\n",
        "    surname_vector = self._vectorizer.vectorize(row.surname)\n",
        "    nationality_index = self._vectorizer.nationality_vocab.lookup_token(row.nationality)\n",
        "    return {\"x_surname\": surname_vector,\n",
        "            \"y_nationality\": nationality_index}\n",
        "  \n",
        "  def get_num_batches(self, batch_size):\n",
        "    return len(self) // batch_size\n",
        "  \n",
        "def generate_batches(dataset, batch_size, shuffle=True,\n",
        "                       drop_last=True, device=\"cpu\"):\n",
        "  dataloader = DataLoader(dataset=dataset, batch_size=batch_size, \n",
        "                          shuffle=shuffle, drop_last=drop_last)\n",
        "  for data_dict in dataloader:\n",
        "    out_data_dict = {}\n",
        "    for name, tensor in data_dict.items():\n",
        "      out_data_dict[name] = data_dict[name].to(device)\n",
        "    yield out_data_dict"
      ],
      "execution_count": null,
      "outputs": []
    },
    {
      "cell_type": "markdown",
      "metadata": {
        "id": "Rov8zBSbND8Y"
      },
      "source": [
        "**The Vocabulary Class**\n",
        "* The Vocabulary is the coordination of two Python Dictionaries that form a bijection between tokens or characters here and integers. The first dictionary maps characters to integers indices and the second maps the integers indices to characters. The add_token method is used to add new tokens into the Vocabulary and look_up method is used to retrieve an index and lookup_index is used to retrieve a token given an index."
      ]
    },
    {
      "cell_type": "code",
      "metadata": {
        "id": "jyvE8cT2GQ_M"
      },
      "source": [
        "#@ The Vocabulary Class:\n",
        "class Vocabulary(object):\n",
        "  \"\"\" Class to process text and extract Vocabulary for mapping. \"\"\"\n",
        "  def __init__(self, token_to_idx=None, add_unk=True, unk_token=\"<UNK>\"):\n",
        "    \"\"\"\n",
        "    Args: token_to_idx(dict): Pre existing map of Tokens to Index.\n",
        "        : add_unk(bool): A flag indicating whether to add UNK Token.\n",
        "        : unk_token(string): The UNK Token to add in Vocabulary.\n",
        "    \"\"\"\n",
        "    if token_to_idx is None:\n",
        "      token_to_idx = {}\n",
        "    self._token_to_idx = token_to_idx\n",
        "    self._idx_to_token = {idx:token for token, idx in self._token_to_idx.items()}\n",
        "    self._add_unk = add_unk\n",
        "    self._unk_token = unk_token\n",
        "\n",
        "    self.unk_index = -1\n",
        "    if add_unk:\n",
        "      self.unk_index = self.add_token(unk_token)\n",
        "    \n",
        "  def to_serializable(self):\n",
        "    \"\"\"Returns a dictionary that can be serialized.\n",
        "    \"\"\"\n",
        "    return {\"token_to_idx\":self._token_to_idx,\n",
        "            \"add_unk\":self._add_unk,\n",
        "            \"unk_token\":self._unk_token}\n",
        "  \n",
        "  @classmethod\n",
        "  def from_serializable(cls, contents):\n",
        "    return cls(**contents)\n",
        "  \n",
        "  def add_token(self, token):\n",
        "    \"\"\"Update the mapping dictionary based on the Tokens.\n",
        "    Args: token: The item to add into the Vocabulary.\n",
        "    Returns: index: Integer corresponding to the Token.\n",
        "    \"\"\"\n",
        "    try:\n",
        "      index = self._token_to_idx[token]\n",
        "    except KeyError:\n",
        "      index = len(self._token_to_idx)\n",
        "      self._token_to_idx[token] = index\n",
        "      self._idx_to_token[index] = token\n",
        "    return index\n",
        "  \n",
        "  def add_many(self, tokens):\n",
        "    \"\"\"Add a list of Tokens into Vocabulary.\n",
        "    Args: tokens(list): A list of string Tokens.\n",
        "    Returns: indices(list): A list of indices correspoinding to the Tokens.\n",
        "    \"\"\"\n",
        "    return [self.add_token(token) for token in tokens]\n",
        "  \n",
        "  def lookup_token(self, token):\n",
        "    \"\"\"Retrieve the Index associated with the Token.\n",
        "    Args: token(str): The Token to lookup.\n",
        "    Returns: index(int): The Index correspoinding to the Token.\n",
        "    \"\"\"\n",
        "    if self.unk_index >= 0:\n",
        "      return self._token_to_idx.get(token, self.unk_index)\n",
        "    else:\n",
        "      return self._token_to_idx[token]\n",
        "  \n",
        "  def lookup_index(self, index):\n",
        "    \"\"\"Return the Token associated with the Index.\n",
        "    Args: index(int): The Index to lookup.\n",
        "    Returns: token(str): The Token correspoinding to the Index.\n",
        "    \"\"\"\n",
        "    if index not in self._idx_to_token:\n",
        "      raise KeyError(\"the index (%d) is not in the vocabulary\" % index)\n",
        "    return self._idx_to_token[index]\n",
        "  \n",
        "  def __str__(self):\n",
        "    return \"<Vocabulary(size=%d)>\" % len(self)\n",
        "  \n",
        "  def __len__(self):\n",
        "    return len(self._token_to_idx)"
      ],
      "execution_count": null,
      "outputs": []
    },
    {
      "cell_type": "markdown",
      "metadata": {
        "id": "jIORpomMXqYs"
      },
      "source": [
        "**The Vectorizer Class**\n",
        "* The Vocabulary converts individual tokens into Integers and The Surname Vectorizer is responsible for applying the Vocabulary and converting surname into Vector. Surnames are sequence of characters and each character is an individual token in the Vocabulary. "
      ]
    },
    {
      "cell_type": "code",
      "metadata": {
        "id": "9FVDRfwzWMBn"
      },
      "source": [
        "#@ The Vectorizer Class:\n",
        "class SurnameVectorizer(object):\n",
        "  \"\"\"The Vectorizer coordinates the Vocabularies and puts them to use.\n",
        "  \"\"\"\n",
        "  def __init__(self, surname_vocab, nationality_vocab):\n",
        "    self.surname_vocab = surname_vocab\n",
        "    self.nationality_vocab = nationality_vocab\n",
        "  \n",
        "  def vectorize(self, surname):\n",
        "    \"\"\"\n",
        "    Args: surname: The Surname\n",
        "    Returns: A collapsed one hot Encoding.\n",
        "    \"\"\"\n",
        "    vocab = self.surname_vocab\n",
        "    one_hot = np.zeros(len(vocab), dtype=np.float32)\n",
        "    for token in surname:\n",
        "      one_hot[vocab.lookup_token(token)] = 1\n",
        "    return one_hot\n",
        "  \n",
        "  @classmethod\n",
        "  def from_dataframe(cls, surname_df):\n",
        "    surname_vocab = Vocabulary(unk_token=\"@\")\n",
        "    nationality_vocab = Vocabulary(add_unk=False)\n",
        "\n",
        "    for index, row in surname_df.iterrows():\n",
        "      for letter in row.surname:\n",
        "        surname_vocab.add_token(letter)\n",
        "      nationality_vocab.add_token(row.nationality)\n",
        "\n",
        "    return cls(surname_vocab, nationality_vocab)\n",
        "  \n",
        "  @classmethod\n",
        "  def from_serializable(cls, contents):\n",
        "    surname_vocab = Vocabulary.from_serializable(contents['surname_vocab'])\n",
        "    nationality_vocab =  Vocabulary.from_serializable(contents['nationality_vocab'])\n",
        "    return cls(surname_vocab=surname_vocab, nationality_vocab=nationality_vocab)\n",
        "\n",
        "  def to_serializable(self):\n",
        "    return {'surname_vocab': self.surname_vocab.to_serializable(),\n",
        "            'nationality_vocab': self.nationality_vocab.to_serializable()}"
      ],
      "execution_count": null,
      "outputs": []
    },
    {
      "cell_type": "markdown",
      "metadata": {
        "id": "sFmJeafH0wHb"
      },
      "source": [
        "**The Model: Surname Classifier**\n",
        "* The Surname Classifier is an Implementation of the Multi Layer Perceptron. The first Linear Layer maps the input vectors to an intermediate vector and the non linearity is applied to that vector. A second Linear Layer maps the Intermediate vector to the Prediction vector. In the last step the Softmax Function is optionally applied to make sure the outputs sum to 1 which is interpreted as Probabilities."
      ]
    },
    {
      "cell_type": "code",
      "metadata": {
        "id": "ybHQYe0BZZas"
      },
      "source": [
        "#@ The Surname Classifier using an MLP:\n",
        "class SurnameClassifier(nn.Module):\n",
        "  \"\"\" A Multi Layer Perceptron for classifying Surnames. \"\"\"\n",
        "  def __init__(self, input_dim, hidden_dim, output_dim):\n",
        "    \"\"\"\n",
        "    Args: input_dim(int): The size of the Input Vectors.\n",
        "        : hidden_dim(int): The output size of the First Linear Layer.\n",
        "        : output_dim(int): The output size of the Second Lienar Layer.\n",
        "    \"\"\"\n",
        "    super(SurnameClassifier, self).__init__()\n",
        "    self.fc1 = nn.Linear(input_dim, hidden_dim)\n",
        "    self.fc2 = nn.Linear(hidden_dim, output_dim)\n",
        "  \n",
        "  def forward(self, x_in, apply_softmax=False):\n",
        "    \"\"\" The Forward pass of the Classifier. \"\"\"\n",
        "    intermediate_vector = F.relu(self.fc1(x_in))\n",
        "    prediction_vector = self.fc2(intermediate_vector)\n",
        "\n",
        "    if apply_softmax:\n",
        "      prediction_vector = F.softmax(prediction_vector, dim=1)\n",
        "    return prediction_vector"
      ],
      "execution_count": null,
      "outputs": []
    },
    {
      "cell_type": "markdown",
      "metadata": {
        "id": "7iTcqiVVADRY"
      },
      "source": [
        "**The Training Routine**\n",
        "* The Training Routine is responsible for instantiating the Model, iterating over the Dataset, computing the output of the Model when the given data as Input, computing the Loss and updating the Model proportional to the Loss."
      ]
    },
    {
      "cell_type": "code",
      "metadata": {
        "id": "NMCIkxfY_cHb"
      },
      "source": [
        "#@ Helper Functions for Training Routine:\n",
        "def make_train_state(args):\n",
        "  return {\"stop_early\": False,\n",
        "          \"early_stopping_step\": 0,\n",
        "          \"early_stopping_best_val\": 1e8,\n",
        "          \"learning_rate\": args.learning_rate,\n",
        "          \"epoch_index\": 0,\n",
        "          \"train_loss\": [],\n",
        "          \"train_acc\": [],\n",
        "          \"val_loss\": [],\n",
        "          \"val_acc\": [],\n",
        "          \"test_loss\": -1,\n",
        "          \"test_acc\": -1,\n",
        "          \"model_filename\": args.model_state_file}\n",
        "\n",
        "def update_train_stage(args, model, train_state):\n",
        "  \"\"\" Handles the Training state Updates. \"\"\"\n",
        "  #@ Saving atleast one Model:\n",
        "  if train_state[\"epoch_index\"] == 0:\n",
        "    torch.save(model.state_dict(), train_state[\"model_filename\"])\n",
        "    train_state[\"stop_early\"] = False\n",
        "  #@ Saving the Model if performance is improved:\n",
        "  elif train_state[\"epoch_index\"] >= 1:\n",
        "    loss_tm1, loss_t = train_state[\"val_loss\"][-2:]\n",
        "    #@ If the loss is worsened:\n",
        "    if loss_t >= train_state[\"early_stopping_best_val\"]:\n",
        "      train_state[\"early_stopping_step\"] += 1\n",
        "    else:\n",
        "      if loss_t < train_state[\"early_stopping_best_val\"]:\n",
        "        torch.save(model.state_dict(), train_state[\"model_filename\"])\n",
        "      train_state[\"early_stopping_step\"] = 0\n",
        "    train_state[\"stop_early\"] = train_state[\"early_stopping_step\"] >= args.early_stopping_criteria\n",
        "  return train_state\n",
        "\n",
        "def compute_accuracy(y_pred, y_target):\n",
        "  _, y_pred_indices = y_pred.max(dim=1)\n",
        "  n_correct = torch.eq(y_pred_indices, y_target).sum().item()\n",
        "  return n_correct / len(y_pred_indices) * 100"
      ],
      "execution_count": null,
      "outputs": []
    },
    {
      "cell_type": "code",
      "metadata": {
        "id": "aJcF0ReIhEqa"
      },
      "source": [
        "#@ General Utilities:\n",
        "def set_seed_everywhere(seed, cuda):\n",
        "  np.random.seed(seed)\n",
        "  torch.manual_seed(seed)\n",
        "  if cuda:\n",
        "    torch.cuda.manual_seed_all(seed)\n",
        "\n",
        "def handle_dirs(dirpath):\n",
        "  if not os.path.exists(dirpath):\n",
        "    os.makedirs(dirpath)"
      ],
      "execution_count": null,
      "outputs": []
    },
    {
      "cell_type": "code",
      "metadata": {
        "id": "XcpoDP1RiKso",
        "outputId": "3524c284-3a90-47ba-e8be-f5dc6862c010",
        "colab": {
          "base_uri": "https://localhost:8080/",
          "height": 85
        }
      },
      "source": [
        "#@ Hyperparameters and Program Options:\n",
        "args = Namespace(\n",
        "    #@ Data and path Information:\n",
        "    surname_csv = \"/content/drive/My Drive/Colab Notebooks/Surname/surnames_with_splits.csv\",\n",
        "    vectorizer_file = \"vectorizer.json\",\n",
        "    model_state_file = \"model.pth\",\n",
        "    save_dir = \"model_storage/surname_mlp\",\n",
        "    #@ Model Hyperparameters:\n",
        "    hidden_dim = 300,\n",
        "    #@ Training Hyperparameters:\n",
        "    seed = 42,\n",
        "    num_epochs = 100,\n",
        "    early_stopping_criteria = 5,\n",
        "    learning_rate = 0.001,\n",
        "    batch_size = 128,\n",
        "    #@ Runtime Options:\n",
        "    cuda = True,\n",
        "    reload_from_files = False,\n",
        "    expand_filepaths_to_save_dir = True\n",
        ")\n",
        "\n",
        "if args.expand_filepaths_to_save_dir:\n",
        "  args.vectorizer_file = os.path.join(args.save_dir, args.vectorizer_file)\n",
        "  args.model_state_file = os.path.join(args.save_dir, args.model_state_file)\n",
        "  print(\"Expanded Filepaths: \")\n",
        "  print(\"\\t{}\".format(args.vectorizer_file))\n",
        "  print(\"\\t{}\".format(args.model_state_file))\n",
        "\n",
        "#@ Checking the CUDA:\n",
        "if not torch.cuda.is_available():\n",
        "  args.cuda = False\n",
        "args.device = torch.device(\"cuda\" if args.cuda else \"cpu\")\n",
        "print(\"Using CUDA: {}\".format(args.cuda))\n",
        "\n",
        "#@ Set seed for Reproducibility:\n",
        "set_seed_everywhere(args.seed, args.cuda)\n",
        "\n",
        "#@ Handle dirs:\n",
        "handle_dirs(args.save_dir)"
      ],
      "execution_count": null,
      "outputs": [
        {
          "output_type": "stream",
          "text": [
            "Expanded Filepaths: \n",
            "\tmodel_storage/surname_mlp/vectorizer.json\n",
            "\tmodel_storage/surname_mlp/model.pth\n",
            "Using CUDA: True\n"
          ],
          "name": "stdout"
        }
      ]
    },
    {
      "cell_type": "code",
      "metadata": {
        "id": "o7T7JuH-nEs5",
        "outputId": "d6271bd0-d7c5-4b9c-abf1-6855635d4fa1",
        "colab": {
          "base_uri": "https://localhost:8080/",
          "height": 34
        }
      },
      "source": [
        "#@ Initializing the Data Training:\n",
        "if args.reload_from_files:\n",
        "  #@ Training from a checkpoint:\n",
        "  print(\"Reloading!\")\n",
        "  dataset = SurnameDataset.load_dataset_and_load_vectorizer(\n",
        "      args.surname_csv,\n",
        "      args.vectorizer_file\n",
        "  )\n",
        "else:\n",
        "  #@ Creating Dataset and Vectorizer:\n",
        "  print(\"Creating Fresh!\")\n",
        "  dataset = SurnameDataset.load_dataset_and_make_vectorizer(\n",
        "      args.surname_csv\n",
        "  )\n",
        "  dataset.save_vectorizer(args.vectorizer_file)\n",
        "\n",
        "vectorizer = dataset.get_vectorizer()\n",
        "classifier = SurnameClassifier(input_dim=len(vectorizer.surname_vocab),\n",
        "                               hidden_dim=args.hidden_dim,\n",
        "                               output_dim=len(vectorizer.nationality_vocab)) \n",
        "\n",
        "classifier = classifier.to(args.device)\n",
        "dataset.class_weights = dataset.class_weights.to(args.device)\n",
        "loss_func = nn.CrossEntropyLoss(dataset.class_weights)\n",
        "optimizer = optim.Adam(classifier.parameters(), lr=args.learning_rate)\n",
        "scheduler = optim.lr_scheduler.ReduceLROnPlateau(\n",
        "    optimizer = optimizer,\n",
        "    mode=\"min\", factor=0.5,\n",
        "    patience=1\n",
        ")"
      ],
      "execution_count": null,
      "outputs": [
        {
          "output_type": "stream",
          "text": [
            "Creating Fresh!\n"
          ],
          "name": "stdout"
        }
      ]
    },
    {
      "cell_type": "markdown",
      "metadata": {
        "id": "UxmNN_i8ppVx"
      },
      "source": [
        "**The Training Loop**\n",
        "* Using the Training Data, computes the Model Output, Loss and the Gradients. Then the Gradient is used to update the Model."
      ]
    },
    {
      "cell_type": "code",
      "metadata": {
        "id": "XcAxLigipA41",
        "outputId": "cc710d6d-7a9f-42bd-a8e5-fe070e0adaaf",
        "colab": {
          "base_uri": "https://localhost:8080/",
          "height": 249,
          "referenced_widgets": [
            "21b15c84743446cf97eb97e9fd083cc7",
            "7ccc99bec022451d90977f8377400db5",
            "1094a97666614408ba574a67ae66173c",
            "e61f6f41742a41fd870eafd896819bbf",
            "5472a6deec95498ea3694c7e8fcd87e6",
            "2c2af96d7c79475db7517a26e32f440e",
            "2fc121807a4a4638af96888ad8d776a9",
            "f6b738da39014b97b68983dfa2b69d52",
            "7d315a41fcf742e0b02d08c9fd6128ea",
            "2d8bf3a1844c4b76b35dcad822591b50",
            "41a15c7fb641401b81705337c8e1a4d0",
            "6c3bd1dced4940e48bf07f6098101f1b",
            "4a0fb0038c804ba69d13ac0839e96b89",
            "e8493538aa5049388f923b119c6f1026",
            "9193bc80973240dbbdbbef50aae842d3",
            "b28bfa5801ef4dc289303ca775c84cd7",
            "8b90e425b47a436487fe7dcc31495679",
            "58eacc6816bd4c98821565a2cc7eec8a",
            "25bfe262dbde455f9e2163b526f4d1d5",
            "9f33a18c5e124e48bd08abee0ec226d3",
            "b78933413c304ae59ef1fd5db4f3a31e",
            "b8fed22624e0446a84961a1ba8da55dc",
            "c41188616897441ea400ae82fea996ca",
            "c8b24fa6fc9f4e28b68913e7e9e7503d"
          ]
        }
      },
      "source": [
        "#@ The Training Loop:\n",
        "train_state = make_train_state(args)\n",
        "\n",
        "epoch_bar = tqdm_notebook(desc=\"training_routine\",\n",
        "                          total=args.num_epochs,\n",
        "                          position=0)\n",
        "\n",
        "dataset.set_split(\"train\")\n",
        "train_bar = tqdm_notebook(desc=\"split=train\",\n",
        "                          total=dataset.get_num_batches(args.batch_size),\n",
        "                          position=1,\n",
        "                          leave=True)\n",
        "\n",
        "dataset.set_split(\"val\")\n",
        "val_bar = tqdm_notebook(desc=\"split=val\",\n",
        "                        total=dataset.get_num_batches(args.batch_size),\n",
        "                        position=1,\n",
        "                        leave=True)\n",
        "\n",
        "try:\n",
        "  for epoch_index in range(args.num_epochs):\n",
        "    train_state[\"epoch_index\"] = epoch_index\n",
        "\n",
        "    #@ Iterate over the Training Dataset:\n",
        "    dataset.set_split(\"train\")\n",
        "    batch_generator = generate_batches(dataset,\n",
        "                                       batch_size = args.batch_size,\n",
        "                                       device = args.device)\n",
        "    running_loss = 0.0\n",
        "    running_acc = 0.0\n",
        "    classifier.train()\n",
        "\n",
        "    for batch_index, batch_dict in enumerate(batch_generator):\n",
        "      #@ Step1: Zero Gradients:\n",
        "      optimizer.zero_grad()\n",
        "      #@ Step2: Computing the Output:\n",
        "      y_pred = classifier(batch_dict[\"x_surname\"])\n",
        "      #@ Step3: Computing the Loss:\n",
        "      loss = loss_func(y_pred, batch_dict[\"y_nationality\"])\n",
        "      loss_t = loss.item()\n",
        "      running_loss += (loss_t - running_loss) / (batch_index + 1)\n",
        "      #@ Step4: Using loss to produce Gradients:\n",
        "      loss.backward()\n",
        "      #@ Step5: Using optimizer to take Gradient steps:\n",
        "      optimizer.step()\n",
        "      #@ Computing the accuracy:\n",
        "      acc_t = compute_accuracy(y_pred, batch_dict[\"y_nationality\"])\n",
        "      running_acc += (acc_t - running_acc) / (batch_index + 1)\n",
        "      #@ Updating:\n",
        "      train_bar.set_postfix(loss=running_loss, acc=running_acc, epoch=epoch_index)\n",
        "      train_bar.update()\n",
        "    train_state[\"train_loss\"].append(running_loss)\n",
        "    train_state[\"train_acc\"].append(running_acc)\n",
        "\n",
        "    #@ Iterate over Validation Dataset:\n",
        "    dataset.set_split(\"val\")\n",
        "    batch_generator = generate_batches(dataset, \n",
        "                                       batch_size = args.batch_size,\n",
        "                                       device = args.device)\n",
        "    running_loss = 0.0\n",
        "    running_acc = 0.0\n",
        "    classifier.eval()\n",
        "\n",
        "    for batch_index, batch_dict in enumerate(batch_generator):\n",
        "      #@ Step1: Zero Gradients:\n",
        "      optimizer.zero_grad()\n",
        "      #@ Step2: Computing the Output:\n",
        "      y_pred = classifier(batch_dict[\"x_surname\"])\n",
        "      #@ Step3: Computing the Loss:\n",
        "      loss = loss_func(y_pred, batch_dict[\"y_nationality\"])\n",
        "      loss_t = loss.to(\"cpu\").item()\n",
        "      running_loss += (loss_t - running_loss) / (batch_index + 1)\n",
        "      #@ Computing the accuracy:\n",
        "      acc_t = compute_accuracy(y_pred, batch_dict[\"y_nationality\"])\n",
        "      running_acc += (acc_t - running_acc) / (batch_index + 1)\n",
        "      #@ Updating:\n",
        "      val_bar.set_postfix(loss=running_loss, acc=running_acc, epoch=epoch_index)\n",
        "      val_bar.update()\n",
        "    train_state[\"val_loss\"].append(running_loss)\n",
        "    train_state[\"val_acc\"].append(running_acc)\n",
        "\n",
        "    train_state = update_train_stage(args=args, model=classifier, train_state=train_state)\n",
        "    scheduler.step(train_state[\"val_loss\"][-1])\n",
        "\n",
        "    if train_state[\"stop_early\"]:\n",
        "      break\n",
        "    train_bar.n = 0\n",
        "    val_bar.n = 0\n",
        "    epoch_bar.update()\n",
        "except KeyboardInterrupt:\n",
        "  print(\"Exiting Loop!\")"
      ],
      "execution_count": null,
      "outputs": [
        {
          "output_type": "stream",
          "text": [
            "/usr/local/lib/python3.6/dist-packages/ipykernel_launcher.py:6: TqdmDeprecationWarning: This function will be removed in tqdm==5.0.0\n",
            "Please use `tqdm.notebook.tqdm` instead of `tqdm.tqdm_notebook`\n",
            "  \n"
          ],
          "name": "stderr"
        },
        {
          "output_type": "display_data",
          "data": {
            "application/vnd.jupyter.widget-view+json": {
              "model_id": "21b15c84743446cf97eb97e9fd083cc7",
              "version_minor": 0,
              "version_major": 2
            },
            "text/plain": [
              "HBox(children=(FloatProgress(value=0.0, description='training_routine', style=ProgressStyle(description_width=…"
            ]
          },
          "metadata": {
            "tags": []
          }
        },
        {
          "output_type": "stream",
          "text": [
            "/usr/local/lib/python3.6/dist-packages/ipykernel_launcher.py:12: TqdmDeprecationWarning: This function will be removed in tqdm==5.0.0\n",
            "Please use `tqdm.notebook.tqdm` instead of `tqdm.tqdm_notebook`\n",
            "  if sys.path[0] == '':\n"
          ],
          "name": "stderr"
        },
        {
          "output_type": "display_data",
          "data": {
            "application/vnd.jupyter.widget-view+json": {
              "model_id": "7d315a41fcf742e0b02d08c9fd6128ea",
              "version_minor": 0,
              "version_major": 2
            },
            "text/plain": [
              "HBox(children=(FloatProgress(value=0.0, description='split=train', max=60.0, style=ProgressStyle(description_w…"
            ]
          },
          "metadata": {
            "tags": []
          }
        },
        {
          "output_type": "stream",
          "text": [
            "/usr/local/lib/python3.6/dist-packages/ipykernel_launcher.py:18: TqdmDeprecationWarning: This function will be removed in tqdm==5.0.0\n",
            "Please use `tqdm.notebook.tqdm` instead of `tqdm.tqdm_notebook`\n"
          ],
          "name": "stderr"
        },
        {
          "output_type": "display_data",
          "data": {
            "application/vnd.jupyter.widget-view+json": {
              "model_id": "8b90e425b47a436487fe7dcc31495679",
              "version_minor": 0,
              "version_major": 2
            },
            "text/plain": [
              "HBox(children=(FloatProgress(value=0.0, description='split=val', max=12.0, style=ProgressStyle(description_wid…"
            ]
          },
          "metadata": {
            "tags": []
          }
        }
      ]
    },
    {
      "cell_type": "code",
      "metadata": {
        "id": "QCGyi8bSiJ2m",
        "outputId": "d23020f1-4779-43f5-ad9a-440d7b4bee74",
        "colab": {
          "base_uri": "https://localhost:8080/",
          "height": 51
        }
      },
      "source": [
        "#@ Computing the Loss and Accuracy on the Test Dataset:\n",
        "classifier.load_state_dict(torch.load(train_state[\"model_filename\"]))\n",
        "classifier = classifier.to(args.device)\n",
        "dataset.class_weights = dataset.class_weights.to(args.device)\n",
        "loss_func = nn.CrossEntropyLoss(dataset.class_weights)\n",
        "\n",
        "dataset.set_split(\"test\")\n",
        "batch_generator = generate_batches(dataset,\n",
        "                                   batch_size=args.batch_size,\n",
        "                                   device=args.device)\n",
        "running_acc=0.0\n",
        "running_loss=0.0\n",
        "classifier.eval()\n",
        "\n",
        "for batch_index, batch_dict in enumerate(batch_generator):\n",
        "  #@ Computing the Output:\n",
        "  y_pred = classifier(batch_dict[\"x_surname\"])\n",
        "  #@ Computing the Loss:\n",
        "  loss = loss_func(y_pred, batch_dict[\"y_nationality\"])\n",
        "  loss_t = loss.item()\n",
        "  running_loss += (loss_t - running_loss) / (batch_index + 1)\n",
        "  #@ Computing the accuracy:\n",
        "  acc_t = compute_accuracy(y_pred, batch_dict[\"y_nationality\"])\n",
        "  running_acc += (acc_t - running_acc) / (batch_index + 1)\n",
        "\n",
        "train_state[\"test_loss\"] = running_loss\n",
        "train_state[\"test_acc\"] = running_acc\n",
        "\n",
        "print(\"Test Loss: {}\".format(train_state[\"test_loss\"]))\n",
        "print(\"Test Accuracy: {}\".format(train_state[\"test_acc\"]))"
      ],
      "execution_count": 16,
      "outputs": [
        {
          "output_type": "stream",
          "text": [
            "Test Loss: 1.7937180300553641\n",
            "Test Accuracy: 44.791666666666664\n"
          ],
          "name": "stdout"
        }
      ]
    },
    {
      "cell_type": "code",
      "metadata": {
        "id": "Mtx1mKUTEFdo",
        "outputId": "ce86d3cb-1326-485a-bd2c-a2f183cf7660",
        "colab": {
          "base_uri": "https://localhost:8080/",
          "height": 187
        }
      },
      "source": [
        "#@ Inferences:\n",
        "def predict_nationality(name, classifier, vectorizer, k=5):\n",
        "  vectorized_name = vectorizer.vectorize(name)\n",
        "  vectorized_name = torch.tensor(vectorized_name).view(1, -1)\n",
        "  prediction_vector = classifier(vectorized_name, apply_softmax=True)\n",
        "  probability_values, indices = torch.topk(prediction_vector, k=k)\n",
        "\n",
        "  probability_values = probability_values.detach().numpy()[0]\n",
        "  indices = indices.detach().numpy()[0]\n",
        "\n",
        "  results = []\n",
        "  for prob_value, index in zip(probability_values, indices):\n",
        "    nationality = vectorizer.nationality_vocab.lookup_index(index)\n",
        "    results.append({\"nationality\": nationality,\n",
        "                   \"probability\": prob_value})\n",
        "  return results\n",
        "\n",
        "new_surname = input(\"Enter the Surname: \")\n",
        "classifier = classifier.to(\"cpu\")\n",
        "k = int(input(\"How many predictions you wish to see: \"))\n",
        "if k > len(vectorizer.nationality_vocab):\n",
        "  print(\"Sorry!\")\n",
        "  k = len(vectorizer.nationality_vocab)\n",
        "\n",
        "predictions = predict_nationality(new_surname, classifier, vectorizer, k=k)\n",
        "print(\"Top {} Predictions: \".format(k))\n",
        "print(\" \")\n",
        "for prediction in predictions:\n",
        "  print(\"{} ----> {}(Prob={:.2f})\".format(new_surname, prediction[\"nationality\"], prediction[\"probability\"]))"
      ],
      "execution_count": 25,
      "outputs": [
        {
          "output_type": "stream",
          "text": [
            "Enter the Surname: Tamang\n",
            "How many predictions you wish to see: 6\n",
            "Top 6 Predictions: \n",
            " \n",
            "Tamang ----> Vietnamese(Prob=0.19)\n",
            "Tamang ----> Arabic(Prob=0.17)\n",
            "Tamang ----> Japanese(Prob=0.14)\n",
            "Tamang ----> English(Prob=0.10)\n",
            "Tamang ----> Irish(Prob=0.10)\n",
            "Tamang ----> Chinese(Prob=0.07)\n"
          ],
          "name": "stdout"
        }
      ]
    }
  ]
}