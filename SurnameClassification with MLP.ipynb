{
  "nbformat": 4,
  "nbformat_minor": 0,
  "metadata": {
    "colab": {
      "name": "SurnameClassification with MLP.ipynb",
      "provenance": [],
      "collapsed_sections": []
    },
    "kernelspec": {
      "name": "python3",
      "display_name": "Python 3"
    },
    "accelerator": "GPU"
  },
  "cells": [
    {
      "cell_type": "markdown",
      "metadata": {
        "id": "Pf2pFVS0U1mQ"
      },
      "source": [
        "**Initialization**\n",
        "* I use these 3 lines of code on top of my each Notebooks because it will help to prevent any problems while reloading and reworking on a same Project or Problem. And the third line of code helps to make visualization within the Notebook."
      ]
    },
    {
      "cell_type": "code",
      "metadata": {
        "id": "GJEtOByNa5Vo"
      },
      "source": [
        "#@ Initialization:\n",
        "%reload_ext autoreload\n",
        "%autoreload 2\n",
        "%matplotlib inline "
      ],
      "execution_count": 1,
      "outputs": []
    },
    {
      "cell_type": "markdown",
      "metadata": {
        "id": "-68Qtx0PVX9z"
      },
      "source": [
        "**Downloading the Libraries and Dependencies**\n",
        "* I have downloaded all the Libraries and Dependencies required for this Project in one particular cell."
      ]
    },
    {
      "cell_type": "code",
      "metadata": {
        "id": "NJYhZ4poVWSw"
      },
      "source": [
        "#@ Downloading the Libraries and Dependencies:\n",
        "import pandas as pd\n",
        "import numpy as np\n",
        "import collections\n",
        "import re\n",
        "\n",
        "from argparse import Namespace\n",
        "from IPython.display import display\n"
      ],
      "execution_count": 2,
      "outputs": []
    },
    {
      "cell_type": "markdown",
      "metadata": {
        "id": "o_L1e2rEXGfz"
      },
      "source": [
        "**Getting the Data**\n",
        "* I have used Google Colab for this Project so the process of downloading and reading the Data might be different in other platforms. I have used **The Surname Dataset** which is a collection of 10000 surnames from 18 different Nationalities collected from different name sources on the Internet. The first property of this Dataset is that it is fairly Imbalanced. The second property is that there is a valid and intuitive relationships between Nationality origin and Surname Orthography. "
      ]
    },
    {
      "cell_type": "code",
      "metadata": {
        "id": "h9DpbXAyXDhy",
        "outputId": "44ca9761-025a-431a-854e-24aefb68b3ab",
        "colab": {
          "base_uri": "https://localhost:8080/",
          "height": 703
        }
      },
      "source": [
        "#@ Getting the Dataset:\n",
        "args = Namespace(\n",
        "    raw_dataset = \"/content/drive/My Drive/Colab Notebooks/Surname/surnames.csv\",\n",
        "    train_proportion = 0.7,\n",
        "    val_proportion = 0.15,\n",
        "    test_proportion = 0.15,\n",
        "    output_munged = \"/content/drive/My Drive/Colab Notebooks/Surname/surnames_with_splits.csv\",\n",
        "    seed = 42\n",
        ")\n",
        "\n",
        "#@ Reading the Raw Dataset:\n",
        "surnames = pd.read_csv(args.raw_dataset, header=0)\n",
        "display(surnames.head(10))                                                                          # Inspecting the DataFrame.\n",
        "print(\"\\nUnique Classes:\")\n",
        "display(set(surnames[\"nationality\"]))                                                               # Inspecting the Unique classes in the Dataset."
      ],
      "execution_count": 3,
      "outputs": [
        {
          "output_type": "display_data",
          "data": {
            "text/html": [
              "<div>\n",
              "<style scoped>\n",
              "    .dataframe tbody tr th:only-of-type {\n",
              "        vertical-align: middle;\n",
              "    }\n",
              "\n",
              "    .dataframe tbody tr th {\n",
              "        vertical-align: top;\n",
              "    }\n",
              "\n",
              "    .dataframe thead th {\n",
              "        text-align: right;\n",
              "    }\n",
              "</style>\n",
              "<table border=\"1\" class=\"dataframe\">\n",
              "  <thead>\n",
              "    <tr style=\"text-align: right;\">\n",
              "      <th></th>\n",
              "      <th>surname</th>\n",
              "      <th>nationality</th>\n",
              "    </tr>\n",
              "  </thead>\n",
              "  <tbody>\n",
              "    <tr>\n",
              "      <th>0</th>\n",
              "      <td>Woodford</td>\n",
              "      <td>English</td>\n",
              "    </tr>\n",
              "    <tr>\n",
              "      <th>1</th>\n",
              "      <td>Coté</td>\n",
              "      <td>French</td>\n",
              "    </tr>\n",
              "    <tr>\n",
              "      <th>2</th>\n",
              "      <td>Kore</td>\n",
              "      <td>English</td>\n",
              "    </tr>\n",
              "    <tr>\n",
              "      <th>3</th>\n",
              "      <td>Koury</td>\n",
              "      <td>Arabic</td>\n",
              "    </tr>\n",
              "    <tr>\n",
              "      <th>4</th>\n",
              "      <td>Lebzak</td>\n",
              "      <td>Russian</td>\n",
              "    </tr>\n",
              "    <tr>\n",
              "      <th>5</th>\n",
              "      <td>Obinata</td>\n",
              "      <td>Japanese</td>\n",
              "    </tr>\n",
              "    <tr>\n",
              "      <th>6</th>\n",
              "      <td>Rahal</td>\n",
              "      <td>Arabic</td>\n",
              "    </tr>\n",
              "    <tr>\n",
              "      <th>7</th>\n",
              "      <td>Zhuan</td>\n",
              "      <td>Chinese</td>\n",
              "    </tr>\n",
              "    <tr>\n",
              "      <th>8</th>\n",
              "      <td>Acconci</td>\n",
              "      <td>Italian</td>\n",
              "    </tr>\n",
              "    <tr>\n",
              "      <th>9</th>\n",
              "      <td>Mifsud</td>\n",
              "      <td>Arabic</td>\n",
              "    </tr>\n",
              "  </tbody>\n",
              "</table>\n",
              "</div>"
            ],
            "text/plain": [
              "    surname nationality\n",
              "0  Woodford     English\n",
              "1      Coté      French\n",
              "2      Kore     English\n",
              "3     Koury      Arabic\n",
              "4    Lebzak     Russian\n",
              "5   Obinata    Japanese\n",
              "6     Rahal      Arabic\n",
              "7     Zhuan     Chinese\n",
              "8   Acconci     Italian\n",
              "9    Mifsud      Arabic"
            ]
          },
          "metadata": {
            "tags": []
          }
        },
        {
          "output_type": "stream",
          "text": [
            "\n",
            "Unique Classes:\n"
          ],
          "name": "stdout"
        },
        {
          "output_type": "display_data",
          "data": {
            "text/plain": [
              "{'Arabic',\n",
              " 'Chinese',\n",
              " 'Czech',\n",
              " 'Dutch',\n",
              " 'English',\n",
              " 'French',\n",
              " 'German',\n",
              " 'Greek',\n",
              " 'Irish',\n",
              " 'Italian',\n",
              " 'Japanese',\n",
              " 'Korean',\n",
              " 'Polish',\n",
              " 'Portuguese',\n",
              " 'Russian',\n",
              " 'Scottish',\n",
              " 'Spanish',\n",
              " 'Vietnamese'}"
            ]
          },
          "metadata": {
            "tags": []
          }
        }
      ]
    },
    {
      "cell_type": "markdown",
      "metadata": {
        "id": "-kQ9dAp-ce-f"
      },
      "source": [
        "**Processing the Dataset** "
      ]
    },
    {
      "cell_type": "code",
      "metadata": {
        "id": "T2-I7utNbpz1",
        "outputId": "81ad5582-00ba-4a70-f264-88e93b615b81",
        "colab": {
          "base_uri": "https://localhost:8080/",
          "height": 286
        }
      },
      "source": [
        "#@ Splitting the Dataset on the basis of Nationality:\n",
        "by_nationality = collections.defaultdict(list)                      # Collection stores the collection of Data.\n",
        "for _, row in surnames.iterrows():\n",
        "  by_nationality[row.nationality].append(row.to_dict())             # Creating the Dictionary.\n",
        "\n",
        "#@ Creating the Split Data:\n",
        "final_list = []\n",
        "np.random.seed(args.seed)\n",
        "for _, item_list in sorted(by_nationality.items()):\n",
        "  np.random.shuffle(item_list)                                      # Shuffling the Data randomly.\n",
        "  n = len(item_list)                                                # Number of Items.\n",
        "  n_train = int(args.train_proportion * n)                          # Number of Training Dataset.\n",
        "  n_val = int(args.val_proportion * n)                              # Number of Validation Dataset.\n",
        "  n_test = int(args.test_proportion * n)                            # Number of Testing Dataset.\n",
        "  #@ Giving the Data point a Split Attribute:\n",
        "  for item in item_list[:n_train]:\n",
        "    item[\"split\"] = \"train\"                                         # Training Dataset.\n",
        "  for item in item_list[n_train:n_train+n_val]:\n",
        "    item[\"split\"] = \"val\"                                           # Validation Dataset.\n",
        "  for item in item_list[n_train+n_val:n_train+n_val+n_test]:\n",
        "    item[\"split\"] = \"test\"                                          # Testing Dataset.\n",
        "  #@ Adding to the Final List:\n",
        "  final_list.extend(item_list)\n",
        "\n",
        "#@ Final Split of the Data and Creating the Final DataFrame:\n",
        "final_surnames = pd.DataFrame(final_list)\n",
        "\n",
        "#@ Inspecting the Final DataFrame:\n",
        "display(final_surnames.split.value_counts())                         # Inspecting the Training, Validation and the Testing Data.\n",
        "print(\" \")\n",
        "display(final_surnames.head())                                       # Inspecting the Final DataFrame."
      ],
      "execution_count": 4,
      "outputs": [
        {
          "output_type": "display_data",
          "data": {
            "text/plain": [
              "train    7680\n",
              "val      1640\n",
              "test     1640\n",
              "Name: split, dtype: int64"
            ]
          },
          "metadata": {
            "tags": []
          }
        },
        {
          "output_type": "stream",
          "text": [
            " \n"
          ],
          "name": "stdout"
        },
        {
          "output_type": "display_data",
          "data": {
            "text/html": [
              "<div>\n",
              "<style scoped>\n",
              "    .dataframe tbody tr th:only-of-type {\n",
              "        vertical-align: middle;\n",
              "    }\n",
              "\n",
              "    .dataframe tbody tr th {\n",
              "        vertical-align: top;\n",
              "    }\n",
              "\n",
              "    .dataframe thead th {\n",
              "        text-align: right;\n",
              "    }\n",
              "</style>\n",
              "<table border=\"1\" class=\"dataframe\">\n",
              "  <thead>\n",
              "    <tr style=\"text-align: right;\">\n",
              "      <th></th>\n",
              "      <th>surname</th>\n",
              "      <th>nationality</th>\n",
              "      <th>split</th>\n",
              "    </tr>\n",
              "  </thead>\n",
              "  <tbody>\n",
              "    <tr>\n",
              "      <th>0</th>\n",
              "      <td>Guirguis</td>\n",
              "      <td>Arabic</td>\n",
              "      <td>train</td>\n",
              "    </tr>\n",
              "    <tr>\n",
              "      <th>1</th>\n",
              "      <td>Shamon</td>\n",
              "      <td>Arabic</td>\n",
              "      <td>train</td>\n",
              "    </tr>\n",
              "    <tr>\n",
              "      <th>2</th>\n",
              "      <td>Nader</td>\n",
              "      <td>Arabic</td>\n",
              "      <td>train</td>\n",
              "    </tr>\n",
              "    <tr>\n",
              "      <th>3</th>\n",
              "      <td>Kassis</td>\n",
              "      <td>Arabic</td>\n",
              "      <td>train</td>\n",
              "    </tr>\n",
              "    <tr>\n",
              "      <th>4</th>\n",
              "      <td>Bahar</td>\n",
              "      <td>Arabic</td>\n",
              "      <td>train</td>\n",
              "    </tr>\n",
              "  </tbody>\n",
              "</table>\n",
              "</div>"
            ],
            "text/plain": [
              "    surname nationality  split\n",
              "0  Guirguis      Arabic  train\n",
              "1    Shamon      Arabic  train\n",
              "2     Nader      Arabic  train\n",
              "3    Kassis      Arabic  train\n",
              "4     Bahar      Arabic  train"
            ]
          },
          "metadata": {
            "tags": []
          }
        }
      ]
    },
    {
      "cell_type": "code",
      "metadata": {
        "id": "DVMlfnQyiS8G"
      },
      "source": [
        "#@ Preparing the Final Data:\n",
        "final_surnames.to_csv(args.output_munged, index=False)"
      ],
      "execution_count": 5,
      "outputs": []
    }
  ]
}